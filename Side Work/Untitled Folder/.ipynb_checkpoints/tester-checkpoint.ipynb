{
 "cells": [
  {
   "cell_type": "code",
   "execution_count": 8,
   "metadata": {},
   "outputs": [
    {
     "ename": "AttributeError",
     "evalue": "'list' object has no attribute '_posts'",
     "output_type": "error",
     "traceback": [
      "\u001b[0;31m---------------------------------------------------------------------------\u001b[0m",
      "\u001b[0;31mAttributeError\u001b[0m                            Traceback (most recent call last)",
      "\u001b[0;32m<ipython-input-8-92f27d39d456>\u001b[0m in \u001b[0;36m<module>\u001b[0;34m()\u001b[0m\n\u001b[1;32m     66\u001b[0m         {'postID': '65919', 'message': 'Check out the #poster for our #movie #MuffinTop a love story out Nov 4th on #Directv #AT&T #iTunes #Amazon etc. #lovehurtscakehelps #muffintopmovie #romcom #indie #film #davidarquette #melissapeterman #marissajaretwinokur #cathrynmichon #retta #dotmariejones', 'platform': 'instagram'}]\n\u001b[1;32m     67\u001b[0m \u001b[0;34m\u001b[0m\u001b[0m\n\u001b[0;32m---> 68\u001b[0;31m     \u001b[0mresult1\u001b[0m \u001b[0;34m=\u001b[0m \u001b[0mPost_Counts\u001b[0m\u001b[0;34m.\u001b[0m\u001b[0msearch_by_posttype\u001b[0m\u001b[0;34m(\u001b[0m\u001b[0mlist\u001b[0m\u001b[0;34m,\u001b[0m\u001b[0;34m'text'\u001b[0m\u001b[0;34m)\u001b[0m\u001b[0;34m\u001b[0m\u001b[0m\n\u001b[0m\u001b[1;32m     69\u001b[0m     \u001b[0mprint\u001b[0m\u001b[0;34m(\u001b[0m\u001b[0;34m'this'\u001b[0m\u001b[0;34m)\u001b[0m\u001b[0;34m\u001b[0m\u001b[0m\n\u001b[1;32m     70\u001b[0m     \u001b[0mprint\u001b[0m\u001b[0;34m(\u001b[0m\u001b[0mresult1\u001b[0m\u001b[0;34m)\u001b[0m\u001b[0;34m\u001b[0m\u001b[0m\n",
      "\u001b[0;32m<ipython-input-6-f03a3588b6fe>\u001b[0m in \u001b[0;36msearch_by_posttype\u001b[0;34m(self, postType)\u001b[0m\n\u001b[1;32m      5\u001b[0m \u001b[0;34m\u001b[0m\u001b[0m\n\u001b[1;32m      6\u001b[0m     \u001b[0;32mdef\u001b[0m \u001b[0msearch_by_posttype\u001b[0m\u001b[0;34m(\u001b[0m\u001b[0mself\u001b[0m\u001b[0;34m,\u001b[0m \u001b[0mpostType\u001b[0m\u001b[0;34m)\u001b[0m\u001b[0;34m:\u001b[0m\u001b[0;34m\u001b[0m\u001b[0m\n\u001b[0;32m----> 7\u001b[0;31m         \u001b[0mprint\u001b[0m\u001b[0;34m(\u001b[0m\u001b[0mself\u001b[0m\u001b[0;34m.\u001b[0m\u001b[0m_posts\u001b[0m\u001b[0;34m)\u001b[0m\u001b[0;34m\u001b[0m\u001b[0m\n\u001b[0m\u001b[1;32m      8\u001b[0m         \u001b[0mresult\u001b[0m \u001b[0;34m=\u001b[0m \u001b[0;34m[\u001b[0m\u001b[0;34m]\u001b[0m\u001b[0;34m\u001b[0m\u001b[0m\n\u001b[1;32m      9\u001b[0m         \u001b[0;32mif\u001b[0m \u001b[0mpostType\u001b[0m \u001b[0;34m==\u001b[0m \u001b[0;34m''\u001b[0m\u001b[0;34m:\u001b[0m\u001b[0;34m\u001b[0m\u001b[0m\n",
      "\u001b[0;31mAttributeError\u001b[0m: 'list' object has no attribute '_posts'"
     ]
    }
   ],
   "source": [
    "\n",
    "def search_by_posttype(list, postType):\n",
    "    result = []\n",
    "    if postType == '':\n",
    "        return list\n",
    "    else:\n",
    "        for post in list:\n",
    "            if post['gen_postType'] == postType:\n",
    "                result.append(post)\n",
    "        return result\n",
    "\n",
    "def search_by_platform(list, platform):\n",
    "    result = []\n",
    "    if platform == '':\n",
    "        return list\n",
    "    else:\n",
    "        for post in list:\n",
    "            if post['platform'] == platform:\n",
    "                result.append(post)\n",
    "        return result\n",
    "\n",
    "def search_by_success(list,success):\n",
    "    result = []\n",
    "    if success == '':\n",
    "        return list\n",
    "    else:\n",
    "        for post in list:\n",
    "            if post['succeeded'] == success:\n",
    "                result.append(post)\n",
    "        return result\n",
    "\n",
    "def search_by_intent(list,intent):\n",
    "    result = []\n",
    "    if intent == '':\n",
    "        return list\n",
    "    else:\n",
    "        for post in list:\n",
    "            if post['intent'] == intent:\n",
    "                result.append(post)\n",
    "        return result\n",
    "\n",
    "def search_by_category(list,category):\n",
    "    result = []\n",
    "    if category == '':\n",
    "        return list\n",
    "    else:\n",
    "        for post in list:\n",
    "            if post['category'] == category:\n",
    "                result.append(post)\n",
    "        return result\n",
    "\n",
    "if __name__ == '__main__':\n",
    "    list = [{'postID': '65191', 'message': \"When's the last time Hollywood made a movie with women that look like you? Muffin Top, the rom com about female body image, has the highest percentage of women in front of and behind camera of any film of the last 3 years! Our dream is bring this film to your town in a Red Carpet Premiere Tour to PUT CHICKS BACK IN FLICKS! When you join our movie-ment you get one of a kind items, signed DVD's, Posters, you can even get your name on the silver screen! Only 6% of Hollywood movies give women an equal voice. Be a positive force for change, pledge on Kickstarter: http://kck.st/1h9IMJ0\", 'platform': 'facebook'}, \n",
    "        {'postID': '65192', 'message': \"I tend to exaggerate, so when I say there is less gender equality in Hollywood movies than ever, people don't believe me perhaps. Thanks to Ross Harmon, who supported our PUT CHICKS BACK IN FLIX tour of Muffin Top on Kickstarter day one, here's what it looked like back in the 1940's at MGM. 31 women in this picture, 32 men (I'm not counting Mr. Mayer, who owned the joint). Now, 6% of Hollywood movies give women an equal voice. And look how OLD some of those women are! If you want to help me change it, please consider being part of our campaign. http://kck.st/1h9IMJ0\", 'platform': 'facebook'},\n",
    "        {'postID': '65193', 'message': 'AMAZING article/review of Muffin Top: A Love Story that came out today! All about our campaign to take this movie on a tour to promote REAL images of women in entertainment! So proud that this New York journalist loved the movie and the movie-ment! SO HAPPY AND PROUD OF MY CAST AND CREW!', 'platform': 'facebook'}, \n",
    "        {'postID': '65194', 'message': 'WELCOME 2 Muffin Top UNPLUGGED! My vision In directing this movie was an all girl singer/songwriter soundtrack score, the first in rom com history. For the next 9 days of our Kickstarter campaign I\\'ll spotlight the artists our music supervisors (who did the Oscar winning film Crash, Yay Erin Dillon!) found. Welcome Ria Mae! So proud of this \"Garden State\" level indie GirlPower playlist. ENJOY!', 'platform': 'facebook'}, \n",
    "        {'postID': '65195', 'message': \"97 out of 100 women have at least one negative thought about their body every day and my question is, who the hell are those other 3 girls? I bared my muffin top in a movie because I've always thought if you can laugh at something, you can get past something. Here's my guest blogpost on Tracy Beckerman's blog about this today!\", 'platform': 'facebook'}, \n",
    "        {'postID': '65196', 'message': \"GENIUS BLOGPOST about our Girl Body Power movie Muffin Top and our campaign to take this movie to the real people, away from the Hollywood people who say a movie actress must be a size 0 or 2, unlike Marilyn Monroe who in today's media climate would be TOO FAT TO BE CAST IN A MOVIE as the female lead. Really? Really. Thank you Jenny!\", 'platform': 'facebook'}, \n",
    "        {'postID': '65197', 'message': 'Hey everyone, new site for movie trailers, just uploaded mine. Check it!', 'platform': 'facebook'}, \n",
    "        {'postID': '65198', 'message': 'MUFFIN TOP UNPLUGGED DAY 8 of Kickstarter tour drive! Please meet the deliciously named Nitanee Paris Music and her equally deliciously named cut, \"Champagne and Sugar\" which is part of the all girl GIRLPOWER \"Love the Skin You\\'re In\" soundtrack of Muffin Top: A Love Story. Seriously, this girl has chops, and PIPES!', 'platform': 'facebook'}, \n",
    "        {'postID': '65199', 'message': 'I love that J.K. Rowling agrees with all of us who came together to make Muffin Top: A Love Story, that most images in the media are poisonous to women and girls. But we defied the odds and made a truly funny film that has the message, \"love the skin you\\'re in!\" If you want there to be movies like ours in the world, please vote for us with Kickstarter, which allows you to pre-order or DVD and help us take this message out into the world. We have one week to make our goal, and if we fail, we lose everything we\\'ve raised. Please consider backing a first time woman director, me, today by clicking at the following link. http://kck.st/1h9IMJ0', 'platform': 'facebook'}, \n",
    "        {'postID': '65200', 'message': 'Jennifer Lawrence was criticized by many reviewers for being \"too fat\" in the Hunger Games. I get it, they\\'re hunger games, but Hollywood is the hunger games every day. Actresses are expected to be size 0 - 2, and Marilyn Monroe at size 14 wouldn\\'t have a shot in today\\'s media. I\\'m trying to change it, by having women make films for women. If you support that, please support TEAM MUFFIN TOP at any amount. It takes a village. http://kck.st/1h9IMJ0', 'platform': 'facebook'}, \n",
    "        {'postID': '65201', 'message': 'I am so honored that like in that old shampoo commercial (I\\'m old! I remember old commercials!) where \"I told two friends, and she told two friends, and so on,\" the so-called \"Mommy Blog\" community (brilliant women writers who happen to have used their uteruses a time or two) have embraced the Muffin Top PUT CHICKS IN FLICKS campaign. This column by Anne Parris made me actually LOL. Like, actually L. OL. Check it!', 'platform': 'facebook'}, \n",
    "        {'postID': '65917', 'message': 'Fill in the blank! #muffin #muffintop #muffintopmovie #cake #cakehelps #funny #movie #indie #women #comedy #yum #chocolate #wine #love', 'platform': 'instagram'}, \n",
    "        {'postID': '65918', 'message': 'Check out our great #movie #poster #film #muffintop #muffin #muffintopmovie #chicks #menleave #cake #cakehelps #love #loveyourself #believe #losangeles #indie #lovestory #happy #hollywood', 'platform': 'instagram'}, \n",
    "        {'postID': '65919', 'message': 'Check out the #poster for our #movie #MuffinTop a love story out Nov 4th on #Directv #AT&T #iTunes #Amazon etc. #lovehurtscakehelps #muffintopmovie #romcom #indie #film #davidarquette #melissapeterman #marissajaretwinokur #cathrynmichon #retta #dotmariejones', 'platform': 'instagram'}]\n",
    "\n",
    "    result1 = Post_Counts.search_by_posttype(list,'text')\n",
    "    print('this')\n",
    "    print(result1)\n"
   ]
  },
  {
   "cell_type": "code",
   "execution_count": null,
   "metadata": {
    "collapsed": true
   },
   "outputs": [],
   "source": []
  },
  {
   "cell_type": "code",
   "execution_count": null,
   "metadata": {
    "collapsed": true
   },
   "outputs": [],
   "source": []
  }
 ],
 "metadata": {
  "anaconda-cloud": {},
  "kernelspec": {
   "display_name": "Python [default]",
   "language": "python",
   "name": "python3"
  },
  "language_info": {
   "codemirror_mode": {
    "name": "ipython",
    "version": 3
   },
   "file_extension": ".py",
   "mimetype": "text/x-python",
   "name": "python",
   "nbconvert_exporter": "python",
   "pygments_lexer": "ipython3",
   "version": "3.5.2"
  }
 },
 "nbformat": 4,
 "nbformat_minor": 1
}
