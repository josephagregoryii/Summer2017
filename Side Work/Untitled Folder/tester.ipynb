{
 "cells": [
  {
   "cell_type": "code",
   "execution_count": 19,
   "metadata": {},
   "outputs": [
    {
     "name": "stdout",
     "output_type": "stream",
     "text": [
      "[{'succeeded': '1', 'sub_category': 'Narrative Film', 'gen_postType': 'text', 'platform': 'twitter', 'postID': '65909', 'message': '3 hours left to join the movement!! Go Team Muffin Top! http://www.kickstarter.com/projects/cathrynmichon/muffin-top-girls-night-out-red-carpet-premiere-tou _С_ #MTMOV'}, {'succeeded': '1', 'sub_category': 'Narrative Film', 'gen_postType': 'photo', 'platform': 'twitter', 'postID': '65910', 'message': '.@paulfeig is not the only one showing the entertainment industry we want chicks back in flicks!'}, {'succeeded': '1', 'sub_category': 'Narrative Film', 'gen_postType': 'photo', 'platform': 'twitter', 'postID': '65911', 'message': 'RT @RoughCustomer: @MuffinTopMovie We appreciate the follow! Great job on your crowdfunding! /thank you!'}, {'succeeded': '1', 'sub_category': 'Narrative Film', 'gen_postType': 'text', 'platform': 'twitter', 'postID': '65912', 'message': '713 BACKERS!!! THANK YOU!!! LESS THAN 2 HOURS LEFT!'}, {'succeeded': '1', 'sub_category': 'Narrative Film', 'gen_postType': 'text', 'platform': 'twitter', 'postID': '65913', 'message': \"We've raised 94%+ of our kickstarter. Take us all the way, tweeps!\"}, {'succeeded': '1', 'sub_category': 'Narrative Film', 'gen_postType': 'video', 'platform': 'twitter', 'postID': '65914', 'message': 'Less than 90 mins to see the comedy w/ @dotmariejones @MarissaJWinokur @unforettable @Followtheblonde...'}, {'succeeded': '1', 'sub_category': 'Narrative Film', 'gen_postType': 'video', 'platform': 'twitter', 'postID': '65915', 'message': 'THANK YOU TEAM MUFFIN TOP!!! 100%!! http://www.kickstarter.com/projects/cathrynmichon/muffin-top-girls-night-out-red-carpet-premiere-tou _С_ @thegrrlgenius @Followtheblonde @MarissaJWinokur @dotmariejones @unfoRETTAble'}, {'succeeded': '1', 'sub_category': 'Narrative Film', 'gen_postType': 'text', 'platform': 'twitter', 'postID': '65916', 'message': 'Thank you for pledging, RTing, posting, blogging, vining, instagraming, emailing, sign spinning & for all your help! You started a movement!'}, {'succeeded': '1', 'sub_category': 'Narrative Film', 'gen_postType': 'image', 'platform': 'instagram', 'postID': '65917', 'message': 'Fill in the blank! #muffin #muffintop #muffintopmovie #cake #cakehelps #funny #movie #indie #women #comedy #yum #chocolate #wine #love'}, {'succeeded': '1', 'sub_category': 'Narrative Film', 'gen_postType': 'image', 'platform': 'instagram', 'postID': '65918', 'message': 'Check out our great #movie #poster #film #muffintop #muffin #muffintopmovie #chicks #menleave #cake #cakehelps #love #loveyourself #believe #losangeles #indie #lovestory #happy #hollywood'}, {'succeeded': '1', 'sub_category': 'Narrative Film', 'gen_postType': 'image', 'platform': 'instagram', 'postID': '65919', 'message': 'Check out the #poster for our #movie #MuffinTop a love story out Nov 4th on #Directv #AT&T #iTunes #Amazon etc. #lovehurtscakehelps #muffintopmovie #romcom #indie #film #davidarquette #melissapeterman #marissajaretwinokur #cathrynmichon #retta #dotmariejones'}]\n",
      "11\n",
      "appended\n",
      "appended\n",
      "appended\n",
      "[{'succeeded': '1', 'sub_category': 'Narrative Film', 'gen_postType': 'image', 'platform': 'instagram', 'postID': '65917', 'message': 'Fill in the blank! #muffin #muffintop #muffintopmovie #cake #cakehelps #funny #movie #indie #women #comedy #yum #chocolate #wine #love'}, {'succeeded': '1', 'sub_category': 'Narrative Film', 'gen_postType': 'image', 'platform': 'instagram', 'postID': '65918', 'message': 'Check out our great #movie #poster #film #muffintop #muffin #muffintopmovie #chicks #menleave #cake #cakehelps #love #loveyourself #believe #losangeles #indie #lovestory #happy #hollywood'}, {'succeeded': '1', 'sub_category': 'Narrative Film', 'gen_postType': 'image', 'platform': 'instagram', 'postID': '65919', 'message': 'Check out the #poster for our #movie #MuffinTop a love story out Nov 4th on #Directv #AT&T #iTunes #Amazon etc. #lovehurtscakehelps #muffintopmovie #romcom #indie #film #davidarquette #melissapeterman #marissajaretwinokur #cathrynmichon #retta #dotmariejones'}]\n",
      "3\n"
     ]
    }
   ],
   "source": [
    "full_list = []\n",
    "def get_data():\n",
    "    listofObj = []\n",
    "    listofcid = []\n",
    "    prev_obj = None\n",
    "    \n",
    "    global full_list\n",
    "\n",
    "    with open('data_with_imgurl2.csv', errors='ignore') as csvfile:\n",
    "        reader = csv.reader(csvfile)\n",
    "        contents = [row for row in reader]\n",
    "\n",
    "    for row in contents[1:]:\n",
    "        temp = []\n",
    "        cells = row\n",
    "        post_id = cells[1]\n",
    "        handle = cells[2]\n",
    "        postDate = cells[3]\n",
    "        postType = cells[4]\n",
    "        gen_postType = cells[5]\n",
    "        postUrl = cells[6]\n",
    "        platform = cells[7]\n",
    "        message = cells[8]\n",
    "        twitter_comment = cells[9]\n",
    "        twitter_retweet = cells[10]\n",
    "        relevant_prediction = cells[11]\n",
    "        cta_prediction = cells[12]\n",
    "        sell_prediction = cells[13]\n",
    "        intent_prediction = cells[14]\n",
    "        comments = cells[15]\n",
    "        shares = cells[16]\n",
    "        likes = cells[17]\n",
    "        views = cells[18]\n",
    "        campaignId = cells[19]\n",
    "        campaign_name = cells[20]\n",
    "        campaign_startDate = cells[21]\n",
    "        campaign_endDate = cells[22]\n",
    "        project_currency = cells[23]\n",
    "        project_staffPick = cells[24]\n",
    "        sub_category = cells[25]\n",
    "        categorynames = cells[26]\n",
    "        categorynumbers = cells[27]\n",
    "        project_url = cells[28]\n",
    "        project_backerCount = cells[29]\n",
    "        project_goal = cells[30]\n",
    "        project_pledgeAmount = cells[31]\n",
    "        succeeded = cells[32]\n",
    "        imageUrl = cells[33]\n",
    "\n",
    "        temp_dict = { 'post_id' : post_id,\n",
    "        'handle' : handle,\n",
    "        'postDate' : postDate,\n",
    "        'postType' : postType,\n",
    "        'gen_postType' : gen_postType,\n",
    "        'postUrl' : postUrl,\n",
    "        'platform' : platform,\n",
    "        'message' : message,\n",
    "        'twitter_comment' : twitter_comment,\n",
    "        'twitter_retweet' : twitter_retweet,\n",
    "        'relevant_prediction' : relevant_prediction,\n",
    "        'cta_prediction' : cta_prediction,\n",
    "        'sell_prediction' : sell_prediction,\n",
    "        'intent_prediction' : intent_prediction,\n",
    "        'comments' : comments,\n",
    "        'shares' : shares,\n",
    "        'likes' : likes,\n",
    "        'views' : views,\n",
    "        'campaignId' : campaignId,\n",
    "        'campaign_name' : campaign_name,\n",
    "        'campaign_startDate' : campaign_startDate,\n",
    "        'campaign_endDate' : campaign_endDate,\n",
    "        'project_currency' : project_currency,\n",
    "        'project_staffPick' : project_staffPick,\n",
    "        'sub_category' : sub_category,\n",
    "        'categorynames' : categorynames,\n",
    "        'categorynumbers' : categorynumbers,\n",
    "        'project_url' : project_url,\n",
    "        'project_backerCount' : project_backerCount,\n",
    "        'project_goal' : project_goal,\n",
    "        'project_pledgeAmount' : project_pledgeAmount,\n",
    "        'succeeded' : succeeded,\n",
    "        'imageUrl' : imageUrl\n",
    "        }\n",
    "        full_list.append(temp_dict)\n",
    "        \n",
    "    return full_list\n",
    "        "
   ]
  },
  {
   "cell_type": "code",
   "execution_count": null,
   "metadata": {
    "collapsed": true
   },
   "outputs": [],
   "source": []
  },
  {
   "cell_type": "code",
   "execution_count": null,
   "metadata": {
    "collapsed": true
   },
   "outputs": [],
   "source": []
  }
 ],
 "metadata": {
  "anaconda-cloud": {},
  "kernelspec": {
   "display_name": "Python [default]",
   "language": "python",
   "name": "python3"
  },
  "language_info": {
   "codemirror_mode": {
    "name": "ipython",
    "version": 3
   },
   "file_extension": ".py",
   "mimetype": "text/x-python",
   "name": "python",
   "nbconvert_exporter": "python",
   "pygments_lexer": "ipython3",
   "version": "3.5.2"
  }
 },
 "nbformat": 4,
 "nbformat_minor": 1
}
