{
 "cells": [
  {
   "cell_type": "code",
   "execution_count": null,
   "metadata": {},
   "outputs": [
    {
     "name": "stderr",
     "output_type": "stream",
     "text": [
      "IOPub data rate exceeded.\n",
      "The notebook server will temporarily stop sending output\n",
      "to the client in order to avoid crashing it.\n",
      "To change this limit, set the config variable\n",
      "`--NotebookApp.iopub_data_rate_limit`.\n"
     ]
    }
   ],
   "source": [
    "import csv\n",
    "\n",
    "def openfile(file):\n",
    "    \"\"\"['Unnamed: 0', 'post_id', 'handle', 'postDate', 'postType', 5:'gen_postType', \n",
    "    'postUrl', 'platform', 'message', 'twitter_comment', 'twitter_retweet', 'relevant_prediction', \n",
    "    'cta_prediction', 'sell_prediction', 'intent_prediction', 'comments', 'shares', 'likes', \n",
    "    'views', 'CampaignId', 'campaign_name', 'campaign_startDate', 'campaign_endDate', 'project_currency', \n",
    "    'project_staffPick', 'sub_category', 'CategoryNames', 'CategoryNumbers', 'project_url', 'project_backerCount', \n",
    "    'project_goal', 'project_pledgeAmount', 'Succeeded', 3:'imageUrl']\"\"\"\n",
    "    \n",
    "    with open(file, encoding = 'ascii', errors = 'ignore') as csvfile:\n",
    "        reader = csv.reader(csvfile)\n",
    "        content = [content for content in reader]\n",
    "    tables = content[0]\n",
    "    \n",
    "    list1 = []\n",
    "    for post in content[1:-1]:\n",
    "        temp = {\n",
    "            #'post_id':post[1],\n",
    "            #'gen_postType':post[5],\n",
    "            #'postUrl':post[6],\n",
    "            'platform':post[7],\n",
    "            'message':post[8]\n",
    "        }\n",
    "        list1.append(temp)\n",
    "    result = []\n",
    "    \n",
    "    for content in list1:\n",
    "        try: \n",
    "            result = result + counter(content['message'])    \n",
    "        except:\n",
    "            continue\n",
    "        \n",
    "dictionary = {}\n",
    "\n",
    "def counter(string):\n",
    "    global dictionary\n",
    "    string = str.lower(string)\n",
    "    string_list = string.split(' ')\n",
    "    \n",
    "    for word in string_list:\n",
    "        if word not in dictionary:\n",
    "            dictionary[word] = 1\n",
    "        else:\n",
    "            dictionary[word] += 1\n",
    "    \n",
    "    print(dictionary)\n",
    "    return dictionary\n",
    "        \n",
    "        \n",
    "def main():\n",
    "    output = openfile('data_with_imgurl2.csv')\n",
    "\n",
    "if __name__ == '__main__':\n",
    "    main()\n",
    "\n",
    "        "
   ]
  },
  {
   "cell_type": "code",
   "execution_count": null,
   "metadata": {
    "collapsed": true
   },
   "outputs": [],
   "source": []
  }
 ],
 "metadata": {
  "anaconda-cloud": {},
  "kernelspec": {
   "display_name": "Python [default]",
   "language": "python",
   "name": "python3"
  },
  "language_info": {
   "codemirror_mode": {
    "name": "ipython",
    "version": 3
   },
   "file_extension": ".py",
   "mimetype": "text/x-python",
   "name": "python",
   "nbconvert_exporter": "python",
   "pygments_lexer": "ipython3",
   "version": "3.5.2"
  }
 },
 "nbformat": 4,
 "nbformat_minor": 1
}
